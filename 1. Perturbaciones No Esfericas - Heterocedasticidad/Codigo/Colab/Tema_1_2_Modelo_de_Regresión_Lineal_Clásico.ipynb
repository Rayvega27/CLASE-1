{
  "nbformat": 4,
  "nbformat_minor": 0,
  "metadata": {
    "colab": {
      "provenance": [],
      "toc_visible": true,
      "authorship_tag": "ABX9TyM92pEUbxM1quegU2yL8Oro",
      "include_colab_link": true
    },
    "kernelspec": {
      "name": "ir",
      "display_name": "R"
    },
    "language_info": {
      "name": "R"
    }
  },
  "cells": [
    {
      "cell_type": "markdown",
      "metadata": {
        "id": "view-in-github",
        "colab_type": "text"
      },
      "source": [
        "<a href=\"https://colab.research.google.com/github/juanpalominoh/Econometria-Intermedia/blob/main/Tema_1_2_Modelo_de_Regresi%C3%B3n_Lineal_Cl%C3%A1sico.ipynb\" target=\"_parent\"><img src=\"https://colab.research.google.com/assets/colab-badge.svg\" alt=\"Open In Colab\"/></a>"
      ]
    },
    {
      "cell_type": "markdown",
      "source": [
        "# **Tema 1.2 - Modelo de Regresión Lineal Clásico**"
      ],
      "metadata": {
        "id": "b44-beZWClJG"
      }
    },
    {
      "cell_type": "code",
      "execution_count": 1,
      "metadata": {
        "colab": {
          "base_uri": "https://localhost:8080/"
        },
        "id": "q6pniTI384f8",
        "outputId": "50e00d0c-92b8-4517-ad82-07fab59e3006"
      },
      "outputs": [
        {
          "output_type": "stream",
          "name": "stderr",
          "text": [
            "Installing package into ‘/usr/local/lib/R/site-library’\n",
            "(as ‘lib’ is unspecified)\n",
            "\n",
            "also installing the dependency ‘Rcpp’\n",
            "\n",
            "\n",
            "Installing package into ‘/usr/local/lib/R/site-library’\n",
            "(as ‘lib’ is unspecified)\n",
            "\n",
            "Installing package into ‘/usr/local/lib/R/site-library’\n",
            "(as ‘lib’ is unspecified)\n",
            "\n"
          ]
        }
      ],
      "source": [
        "# Instalar paquetes\n",
        "install.packages(\"readstata13\")   # Importa base de datos\n",
        "install.packages(\"memisc\")        # Reporta Tablas\n",
        "install.packages(\"dplyr\")         # Manipulación de datos\n",
        "install.packages(\"skimr\")         # Estadísticas descriptivas"
      ]
    },
    {
      "cell_type": "code",
      "source": [
        "# Llamar librerias\n",
        "library(readstata13)\n",
        "library(dplyr)\n",
        "library(memisc)\n",
        "library(skimr)"
      ],
      "metadata": {
        "colab": {
          "base_uri": "https://localhost:8080/"
        },
        "id": "lGOvBJo09vo7",
        "outputId": "29d1055b-1c95-49d6-cf97-6d2752776dab"
      },
      "execution_count": 2,
      "outputs": [
        {
          "output_type": "stream",
          "name": "stderr",
          "text": [
            "\n",
            "Attaching package: ‘dplyr’\n",
            "\n",
            "\n",
            "The following objects are masked from ‘package:stats’:\n",
            "\n",
            "    filter, lag\n",
            "\n",
            "\n",
            "The following objects are masked from ‘package:base’:\n",
            "\n",
            "    intersect, setdiff, setequal, union\n",
            "\n",
            "\n",
            "Loading required package: lattice\n",
            "\n",
            "Loading required package: MASS\n",
            "\n",
            "\n",
            "Attaching package: ‘MASS’\n",
            "\n",
            "\n",
            "The following object is masked from ‘package:dplyr’:\n",
            "\n",
            "    select\n",
            "\n",
            "\n",
            "\n",
            "Attaching package: ‘memisc’\n",
            "\n",
            "\n",
            "The following objects are masked from ‘package:dplyr’:\n",
            "\n",
            "    collect, recode, rename, syms\n",
            "\n",
            "\n",
            "The following objects are masked from ‘package:stats’:\n",
            "\n",
            "    contr.sum, contr.treatment, contrasts\n",
            "\n",
            "\n",
            "The following object is masked from ‘package:base’:\n",
            "\n",
            "    as.array\n",
            "\n",
            "\n"
          ]
        }
      ]
    },
    {
      "cell_type": "markdown",
      "source": [
        "# 1. Cargar Paquete de Datos"
      ],
      "metadata": {
        "id": "dZii_H2o_p7b"
      }
    },
    {
      "cell_type": "code",
      "source": [
        "# Importar bases de datos\n",
        "enaho2020 <- read.dta13(\"/content/clean_enaho_2020.dta\", convert.factors = F) \n",
        "enaho2020"
      ],
      "metadata": {
        "id": "RCiae15294s5"
      },
      "execution_count": 5,
      "outputs": []
    },
    {
      "cell_type": "code",
      "source": [
        "# Nombre de variables\n",
        "names(enaho2020)"
      ],
      "metadata": {
        "colab": {
          "base_uri": "https://localhost:8080/",
          "height": 52
        },
        "id": "P0PU9Cs8-0G8",
        "outputId": "ef2f17de-ad66-492c-f7b2-a297697fa060"
      },
      "execution_count": 7,
      "outputs": [
        {
          "output_type": "display_data",
          "data": {
            "text/html": [
              "<style>\n",
              ".list-inline {list-style: none; margin:0; padding: 0}\n",
              ".list-inline>li {display: inline-block}\n",
              ".list-inline>li:not(:last-child)::after {content: \"\\00b7\"; padding: 0 .5ex}\n",
              "</style>\n",
              "<ol class=list-inline><li>'conglome'</li><li>'vivienda'</li><li>'hogar'</li><li>'codperso'</li><li>'ubigeo'</li><li>'dpto'</li><li>'area'</li><li>'zona'</li><li>'edad'</li><li>'sexo'</li><li>'sch'</li><li>'niv_educ'</li><li>'estatus'</li><li>'jefe'</li><li>'ocu500'</li><li>'wage'</li><li>'fac500a'</li></ol>\n"
            ],
            "text/markdown": "1. 'conglome'\n2. 'vivienda'\n3. 'hogar'\n4. 'codperso'\n5. 'ubigeo'\n6. 'dpto'\n7. 'area'\n8. 'zona'\n9. 'edad'\n10. 'sexo'\n11. 'sch'\n12. 'niv_educ'\n13. 'estatus'\n14. 'jefe'\n15. 'ocu500'\n16. 'wage'\n17. 'fac500a'\n\n\n",
            "text/latex": "\\begin{enumerate*}\n\\item 'conglome'\n\\item 'vivienda'\n\\item 'hogar'\n\\item 'codperso'\n\\item 'ubigeo'\n\\item 'dpto'\n\\item 'area'\n\\item 'zona'\n\\item 'edad'\n\\item 'sexo'\n\\item 'sch'\n\\item 'niv\\_educ'\n\\item 'estatus'\n\\item 'jefe'\n\\item 'ocu500'\n\\item 'wage'\n\\item 'fac500a'\n\\end{enumerate*}\n",
            "text/plain": [
              " [1] \"conglome\" \"vivienda\" \"hogar\"    \"codperso\" \"ubigeo\"   \"dpto\"    \n",
              " [7] \"area\"     \"zona\"     \"edad\"     \"sexo\"     \"sch\"      \"niv_educ\"\n",
              "[13] \"estatus\"  \"jefe\"     \"ocu500\"   \"wage\"     \"fac500a\" "
            ]
          },
          "metadata": {}
        }
      ]
    },
    {
      "cell_type": "code",
      "source": [
        "# Numero de observaciones y variables\n",
        "dim(enaho2020)"
      ],
      "metadata": {
        "colab": {
          "base_uri": "https://localhost:8080/",
          "height": 34
        },
        "id": "QZHNcRjV-2zD",
        "outputId": "62edf720-fc76-45ba-df98-53c3b3be06db"
      },
      "execution_count": 9,
      "outputs": [
        {
          "output_type": "display_data",
          "data": {
            "text/html": [
              "<style>\n",
              ".list-inline {list-style: none; margin:0; padding: 0}\n",
              ".list-inline>li {display: inline-block}\n",
              ".list-inline>li:not(:last-child)::after {content: \"\\00b7\"; padding: 0 .5ex}\n",
              "</style>\n",
              "<ol class=list-inline><li>45876</li><li>17</li></ol>\n"
            ],
            "text/markdown": "1. 45876\n2. 17\n\n\n",
            "text/latex": "\\begin{enumerate*}\n\\item 45876\n\\item 17\n\\end{enumerate*}\n",
            "text/plain": [
              "[1] 45876    17"
            ]
          },
          "metadata": {}
        }
      ]
    },
    {
      "cell_type": "markdown",
      "source": [
        "# 2. Estadística Descriptiva"
      ],
      "metadata": {
        "id": "z6hRphKY_uH0"
      }
    },
    {
      "cell_type": "code",
      "source": [
        "# Resumen Estadistico de variables\n",
        "summary(enaho2020)"
      ],
      "metadata": {
        "colab": {
          "base_uri": "https://localhost:8080/",
          "height": 625
        },
        "id": "n5X6u-5V-1ud",
        "outputId": "b96f5669-3087-4b4a-f07d-97cae45a7741"
      },
      "execution_count": 10,
      "outputs": [
        {
          "output_type": "display_data",
          "data": {
            "text/plain": [
              "   conglome           vivienda            hogar             codperso        \n",
              " Length:45876       Length:45876       Length:45876       Length:45876      \n",
              " Class :character   Class :character   Class :character   Class :character  \n",
              " Mode  :character   Mode  :character   Mode  :character   Mode  :character  \n",
              "                                                                            \n",
              "                                                                            \n",
              "                                                                            \n",
              "    ubigeo               dpto           area             zona      \n",
              " Length:45876       Min.   : 1.0   Min.   :0.0000   Min.   :1.000  \n",
              " Class :character   1st Qu.: 7.0   1st Qu.:0.0000   1st Qu.:1.000  \n",
              " Mode  :character   Median :14.0   Median :1.0000   Median :2.000  \n",
              "                    Mean   :13.1   Mean   :0.6346   Mean   :2.136  \n",
              "                    3rd Qu.:19.0   3rd Qu.:1.0000   3rd Qu.:3.000  \n",
              "                    Max.   :25.0   Max.   :1.0000   Max.   :4.000  \n",
              "      edad            sexo             sch            niv_educ     \n",
              " Min.   :14.00   Min.   :0.0000   Min.   : 0.000   Min.   : 1.000  \n",
              " 1st Qu.:32.00   1st Qu.:0.0000   1st Qu.: 6.000   1st Qu.: 4.000  \n",
              " Median :44.00   Median :1.0000   Median :11.000   Median : 6.000  \n",
              " Mean   :44.27   Mean   :0.6049   Mean   : 9.621   Mean   : 5.902  \n",
              " 3rd Qu.:55.00   3rd Qu.:1.0000   3rd Qu.:13.000   3rd Qu.: 8.000  \n",
              " Max.   :98.00   Max.   :1.0000   Max.   :18.000   Max.   :12.000  \n",
              "    estatus            jefe           ocu500       wage        \n",
              " Min.   :0.0000   Min.   :0.000   Min.   :1   Min.   :    2.0  \n",
              " 1st Qu.:0.0000   1st Qu.:0.000   1st Qu.:1   1st Qu.:  325.9  \n",
              " Median :1.0000   Median :1.000   Median :1   Median :  766.4  \n",
              " Mean   :0.5997   Mean   :0.566   Mean   :1   Mean   : 1176.8  \n",
              " 3rd Qu.:1.0000   3rd Qu.:1.000   3rd Qu.:1   3rd Qu.: 1480.8  \n",
              " Max.   :1.0000   Max.   :1.000   Max.   :1   Max.   :74092.2  \n",
              "    fac500a         \n",
              " Min.   :   0.3713  \n",
              " 1st Qu.:  88.8874  \n",
              " Median : 182.0445  \n",
              " Mean   : 279.8328  \n",
              " 3rd Qu.: 354.0065  \n",
              " Max.   :2820.7278  "
            ]
          },
          "metadata": {}
        }
      ]
    },
    {
      "cell_type": "code",
      "source": [
        "skimr::skim(enaho2020)"
      ],
      "metadata": {
        "colab": {
          "base_uri": "https://localhost:8080/",
          "height": 1000
        },
        "id": "DLFoEXX-_R1R",
        "outputId": "5520a31f-074c-40c3-c7e9-fa885a6e504f"
      },
      "execution_count": 11,
      "outputs": [
        {
          "output_type": "stream",
          "name": "stdout",
          "text": [
            "── Data Summary ────────────────────────\n",
            "                           Values   \n",
            "Name                       enaho2020\n",
            "Number of rows             45876    \n",
            "Number of columns          17       \n",
            "_______________________             \n",
            "Column type frequency:              \n",
            "  character                5        \n",
            "  numeric                  12       \n",
            "________________________            \n",
            "Group variables            None     \n",
            "\n",
            "── Variable type: character ────────────────────────────────────────────────────\n",
            "  skim_variable n_missing complete_rate min max empty n_unique whitespace\n",
            "\u001b[90m1\u001b[39m conglome              0             1   6   6     0     \u001b[4m5\u001b[24m351          0\n",
            "\u001b[90m2\u001b[39m vivienda              0             1   3   3     0      543          0\n",
            "\u001b[90m3\u001b[39m hogar                 0             1   2   2     0       12          0\n",
            "\u001b[90m4\u001b[39m codperso              0             1   2   2     0       15          0\n",
            "\u001b[90m5\u001b[39m ubigeo                0             1   6   6     0     \u001b[4m1\u001b[24m217          0\n",
            "\n",
            "── Variable type: numeric ──────────────────────────────────────────────────────\n",
            "   skim_variable n_missing complete_rate     mean       sd     p0   p25  p50\n",
            "\u001b[90m 1\u001b[39m dpto                  0             1   13.1      6.81   1       7    14 \n",
            "\u001b[90m 2\u001b[39m area                  0             1    0.635    0.482  0       0     1 \n",
            "\u001b[90m 3\u001b[39m zona                  0             1    2.14     0.986  1       1     2 \n",
            "\u001b[90m 4\u001b[39m edad                  0             1   44.3     15.5   14      32    44 \n",
            "\u001b[90m 5\u001b[39m sexo                  0             1    0.605    0.489  0       0     1 \n",
            "\u001b[90m 6\u001b[39m sch                   0             1    9.62     4.75   0       6    11 \n",
            "\u001b[90m 7\u001b[39m niv_educ              0             1    5.90     2.41   1       4     6 \n",
            "\u001b[90m 8\u001b[39m estatus               0             1    0.600    0.490  0       0     1 \n",
            "\u001b[90m 9\u001b[39m jefe                  0             1    0.566    0.496  0       0     1 \n",
            "\u001b[90m10\u001b[39m ocu500                0             1    1        0      1       1     1 \n",
            "\u001b[90m11\u001b[39m wage                  0             1 \u001b[4m1\u001b[24m177.    \u001b[4m1\u001b[24m540.     2     326.  766.\n",
            "\u001b[90m12\u001b[39m fac500a               0             1  280.     299.     0.371  88.9 182.\n",
            "     p75   p100 hist \n",
            "\u001b[90m 1\u001b[39m   19     25  ▅▅▇▅▅\n",
            "\u001b[90m 2\u001b[39m    1      1  ▅▁▁▁▇\n",
            "\u001b[90m 3\u001b[39m    3      4  ▇▇▁▅▂\n",
            "\u001b[90m 4\u001b[39m   55     98  ▅▇▇▂▁\n",
            "\u001b[90m 5\u001b[39m    1      1  ▅▁▁▁▇\n",
            "\u001b[90m 6\u001b[39m   13     18  ▂▃▂▇▃\n",
            "\u001b[90m 7\u001b[39m    8     12  ▅▇▇▃▃\n",
            "\u001b[90m 8\u001b[39m    1      1  ▆▁▁▁▇\n",
            "\u001b[90m 9\u001b[39m    1      1  ▆▁▁▁▇\n",
            "\u001b[90m10\u001b[39m    1      1  ▁▁▇▁▁\n",
            "\u001b[90m11\u001b[39m \u001b[4m1\u001b[24m481. \u001b[4m7\u001b[24m\u001b[4m4\u001b[24m092. ▇▁▁▁▁\n",
            "\u001b[90m12\u001b[39m  354.  \u001b[4m2\u001b[24m821. ▇▁▁▁▁\n"
          ]
        },
        {
          "output_type": "stream",
          "name": "stderr",
          "text": [
            "Warning message in is.null(text_repr) || nchar(text_repr) == 0L:\n",
            "“'length(x) = 17 > 1' in coercion to 'logical(1)'”\n"
          ]
        },
        {
          "output_type": "display_data",
          "data": {
            "text/html": [
              "<table class=\"dataframe\">\n",
              "<caption>A skim_df: 17 × 17</caption>\n",
              "<thead>\n",
              "\t<tr><th></th><th scope=col>skim_type</th><th scope=col>skim_variable</th><th scope=col>n_missing</th><th scope=col>complete_rate</th><th scope=col>character.min</th><th scope=col>character.max</th><th scope=col>character.empty</th><th scope=col>character.n_unique</th><th scope=col>character.whitespace</th><th scope=col>numeric.mean</th><th scope=col>numeric.sd</th><th scope=col>numeric.p0</th><th scope=col>numeric.p25</th><th scope=col>numeric.p50</th><th scope=col>numeric.p75</th><th scope=col>numeric.p100</th><th scope=col>numeric.hist</th></tr>\n",
              "\t<tr><th></th><th scope=col>&lt;chr&gt;</th><th scope=col>&lt;chr&gt;</th><th scope=col>&lt;int&gt;</th><th scope=col>&lt;dbl&gt;</th><th scope=col>&lt;int&gt;</th><th scope=col>&lt;int&gt;</th><th scope=col>&lt;int&gt;</th><th scope=col>&lt;int&gt;</th><th scope=col>&lt;int&gt;</th><th scope=col>&lt;dbl&gt;</th><th scope=col>&lt;dbl&gt;</th><th scope=col>&lt;dbl&gt;</th><th scope=col>&lt;dbl&gt;</th><th scope=col>&lt;dbl&gt;</th><th scope=col>&lt;dbl&gt;</th><th scope=col>&lt;dbl&gt;</th><th scope=col>&lt;chr&gt;</th></tr>\n",
              "</thead>\n",
              "<tbody>\n",
              "\t<tr><th scope=row>1</th><td>character</td><td>conglome</td><td>0</td><td>1</td><td> 6</td><td> 6</td><td> 0</td><td>5351</td><td> 0</td><td>          NA</td><td>          NA</td><td>        NA</td><td>       NA</td><td>      NA</td><td>       NA</td><td>       NA</td><td>NA   </td></tr>\n",
              "\t<tr><th scope=row>2</th><td>character</td><td>vivienda</td><td>0</td><td>1</td><td> 3</td><td> 3</td><td> 0</td><td> 543</td><td> 0</td><td>          NA</td><td>          NA</td><td>        NA</td><td>       NA</td><td>      NA</td><td>       NA</td><td>       NA</td><td>NA   </td></tr>\n",
              "\t<tr><th scope=row>3</th><td>character</td><td>hogar   </td><td>0</td><td>1</td><td> 2</td><td> 2</td><td> 0</td><td>  12</td><td> 0</td><td>          NA</td><td>          NA</td><td>        NA</td><td>       NA</td><td>      NA</td><td>       NA</td><td>       NA</td><td>NA   </td></tr>\n",
              "\t<tr><th scope=row>4</th><td>character</td><td>codperso</td><td>0</td><td>1</td><td> 2</td><td> 2</td><td> 0</td><td>  15</td><td> 0</td><td>          NA</td><td>          NA</td><td>        NA</td><td>       NA</td><td>      NA</td><td>       NA</td><td>       NA</td><td>NA   </td></tr>\n",
              "\t<tr><th scope=row>5</th><td>character</td><td>ubigeo  </td><td>0</td><td>1</td><td> 6</td><td> 6</td><td> 0</td><td>1217</td><td> 0</td><td>          NA</td><td>          NA</td><td>        NA</td><td>       NA</td><td>      NA</td><td>       NA</td><td>       NA</td><td>NA   </td></tr>\n",
              "\t<tr><th scope=row>6</th><td>numeric  </td><td>dpto    </td><td>0</td><td>1</td><td>NA</td><td>NA</td><td>NA</td><td>  NA</td><td>NA</td><td>  13.0968698</td><td>   6.8134976</td><td> 1.0000000</td><td>  7.00000</td><td> 14.0000</td><td>  19.0000</td><td>   25.000</td><td>▅▅▇▅▅</td></tr>\n",
              "\t<tr><th scope=row>7</th><td>numeric  </td><td>area    </td><td>0</td><td>1</td><td>NA</td><td>NA</td><td>NA</td><td>  NA</td><td>NA</td><td>   0.6346020</td><td>   0.4815468</td><td> 0.0000000</td><td>  0.00000</td><td>  1.0000</td><td>   1.0000</td><td>    1.000</td><td>▅▁▁▁▇</td></tr>\n",
              "\t<tr><th scope=row>8</th><td>numeric  </td><td>zona    </td><td>0</td><td>1</td><td>NA</td><td>NA</td><td>NA</td><td>  NA</td><td>NA</td><td>   2.1363022</td><td>   0.9859692</td><td> 1.0000000</td><td>  1.00000</td><td>  2.0000</td><td>   3.0000</td><td>    4.000</td><td>▇▇▁▅▂</td></tr>\n",
              "\t<tr><th scope=row>9</th><td>numeric  </td><td>edad    </td><td>0</td><td>1</td><td>NA</td><td>NA</td><td>NA</td><td>  NA</td><td>NA</td><td>  44.2692475</td><td>  15.5245280</td><td>14.0000000</td><td> 32.00000</td><td> 44.0000</td><td>  55.0000</td><td>   98.000</td><td>▅▇▇▂▁</td></tr>\n",
              "\t<tr><th scope=row>10</th><td>numeric  </td><td>sexo    </td><td>0</td><td>1</td><td>NA</td><td>NA</td><td>NA</td><td>  NA</td><td>NA</td><td>   0.6048696</td><td>   0.4888840</td><td> 0.0000000</td><td>  0.00000</td><td>  1.0000</td><td>   1.0000</td><td>    1.000</td><td>▅▁▁▁▇</td></tr>\n",
              "\t<tr><th scope=row>11</th><td>numeric  </td><td>sch     </td><td>0</td><td>1</td><td>NA</td><td>NA</td><td>NA</td><td>  NA</td><td>NA</td><td>   9.6205859</td><td>   4.7500625</td><td> 0.0000000</td><td>  6.00000</td><td> 11.0000</td><td>  13.0000</td><td>   18.000</td><td>▂▃▂▇▃</td></tr>\n",
              "\t<tr><th scope=row>12</th><td>numeric  </td><td>niv_educ</td><td>0</td><td>1</td><td>NA</td><td>NA</td><td>NA</td><td>  NA</td><td>NA</td><td>   5.9017787</td><td>   2.4116584</td><td> 1.0000000</td><td>  4.00000</td><td>  6.0000</td><td>   8.0000</td><td>   12.000</td><td>▅▇▇▃▃</td></tr>\n",
              "\t<tr><th scope=row>13</th><td>numeric  </td><td>estatus </td><td>0</td><td>1</td><td>NA</td><td>NA</td><td>NA</td><td>  NA</td><td>NA</td><td>   0.5997253</td><td>   0.4899593</td><td> 0.0000000</td><td>  0.00000</td><td>  1.0000</td><td>   1.0000</td><td>    1.000</td><td>▆▁▁▁▇</td></tr>\n",
              "\t<tr><th scope=row>14</th><td>numeric  </td><td>jefe    </td><td>0</td><td>1</td><td>NA</td><td>NA</td><td>NA</td><td>  NA</td><td>NA</td><td>   0.5659822</td><td>   0.4956326</td><td> 0.0000000</td><td>  0.00000</td><td>  1.0000</td><td>   1.0000</td><td>    1.000</td><td>▆▁▁▁▇</td></tr>\n",
              "\t<tr><th scope=row>15</th><td>numeric  </td><td>ocu500  </td><td>0</td><td>1</td><td>NA</td><td>NA</td><td>NA</td><td>  NA</td><td>NA</td><td>   1.0000000</td><td>   0.0000000</td><td> 1.0000000</td><td>  1.00000</td><td>  1.0000</td><td>   1.0000</td><td>    1.000</td><td>▁▁▇▁▁</td></tr>\n",
              "\t<tr><th scope=row>16</th><td>numeric  </td><td>wage    </td><td>0</td><td>1</td><td>NA</td><td>NA</td><td>NA</td><td>  NA</td><td>NA</td><td>1176.8406001</td><td>1540.4678878</td><td> 2.0000000</td><td>325.91666</td><td>766.4167</td><td>1480.7500</td><td>74092.164</td><td>▇▁▁▁▁</td></tr>\n",
              "\t<tr><th scope=row>17</th><td>numeric  </td><td>fac500a </td><td>0</td><td>1</td><td>NA</td><td>NA</td><td>NA</td><td>  NA</td><td>NA</td><td> 279.8328240</td><td> 299.3351186</td><td> 0.3713087</td><td> 88.88741</td><td>182.0445</td><td> 354.0065</td><td> 2820.728</td><td>▇▁▁▁▁</td></tr>\n",
              "</tbody>\n",
              "</table>\n"
            ],
            "text/markdown": "\nA skim_df: 17 × 17\n\n| <!--/--> | skim_type &lt;chr&gt; | skim_variable &lt;chr&gt; | n_missing &lt;int&gt; | complete_rate &lt;dbl&gt; | character.min &lt;int&gt; | character.max &lt;int&gt; | character.empty &lt;int&gt; | character.n_unique &lt;int&gt; | character.whitespace &lt;int&gt; | numeric.mean &lt;dbl&gt; | numeric.sd &lt;dbl&gt; | numeric.p0 &lt;dbl&gt; | numeric.p25 &lt;dbl&gt; | numeric.p50 &lt;dbl&gt; | numeric.p75 &lt;dbl&gt; | numeric.p100 &lt;dbl&gt; | numeric.hist &lt;chr&gt; |\n|---|---|---|---|---|---|---|---|---|---|---|---|---|---|---|---|---|---|\n| 1 | character | conglome | 0 | 1 |  6 |  6 |  0 | 5351 |  0 |           NA |           NA |         NA |        NA |       NA |        NA |        NA | NA    |\n| 2 | character | vivienda | 0 | 1 |  3 |  3 |  0 |  543 |  0 |           NA |           NA |         NA |        NA |       NA |        NA |        NA | NA    |\n| 3 | character | hogar    | 0 | 1 |  2 |  2 |  0 |   12 |  0 |           NA |           NA |         NA |        NA |       NA |        NA |        NA | NA    |\n| 4 | character | codperso | 0 | 1 |  2 |  2 |  0 |   15 |  0 |           NA |           NA |         NA |        NA |       NA |        NA |        NA | NA    |\n| 5 | character | ubigeo   | 0 | 1 |  6 |  6 |  0 | 1217 |  0 |           NA |           NA |         NA |        NA |       NA |        NA |        NA | NA    |\n| 6 | numeric   | dpto     | 0 | 1 | NA | NA | NA |   NA | NA |   13.0968698 |    6.8134976 |  1.0000000 |   7.00000 |  14.0000 |   19.0000 |    25.000 | ▅▅▇▅▅ |\n| 7 | numeric   | area     | 0 | 1 | NA | NA | NA |   NA | NA |    0.6346020 |    0.4815468 |  0.0000000 |   0.00000 |   1.0000 |    1.0000 |     1.000 | ▅▁▁▁▇ |\n| 8 | numeric   | zona     | 0 | 1 | NA | NA | NA |   NA | NA |    2.1363022 |    0.9859692 |  1.0000000 |   1.00000 |   2.0000 |    3.0000 |     4.000 | ▇▇▁▅▂ |\n| 9 | numeric   | edad     | 0 | 1 | NA | NA | NA |   NA | NA |   44.2692475 |   15.5245280 | 14.0000000 |  32.00000 |  44.0000 |   55.0000 |    98.000 | ▅▇▇▂▁ |\n| 10 | numeric   | sexo     | 0 | 1 | NA | NA | NA |   NA | NA |    0.6048696 |    0.4888840 |  0.0000000 |   0.00000 |   1.0000 |    1.0000 |     1.000 | ▅▁▁▁▇ |\n| 11 | numeric   | sch      | 0 | 1 | NA | NA | NA |   NA | NA |    9.6205859 |    4.7500625 |  0.0000000 |   6.00000 |  11.0000 |   13.0000 |    18.000 | ▂▃▂▇▃ |\n| 12 | numeric   | niv_educ | 0 | 1 | NA | NA | NA |   NA | NA |    5.9017787 |    2.4116584 |  1.0000000 |   4.00000 |   6.0000 |    8.0000 |    12.000 | ▅▇▇▃▃ |\n| 13 | numeric   | estatus  | 0 | 1 | NA | NA | NA |   NA | NA |    0.5997253 |    0.4899593 |  0.0000000 |   0.00000 |   1.0000 |    1.0000 |     1.000 | ▆▁▁▁▇ |\n| 14 | numeric   | jefe     | 0 | 1 | NA | NA | NA |   NA | NA |    0.5659822 |    0.4956326 |  0.0000000 |   0.00000 |   1.0000 |    1.0000 |     1.000 | ▆▁▁▁▇ |\n| 15 | numeric   | ocu500   | 0 | 1 | NA | NA | NA |   NA | NA |    1.0000000 |    0.0000000 |  1.0000000 |   1.00000 |   1.0000 |    1.0000 |     1.000 | ▁▁▇▁▁ |\n| 16 | numeric   | wage     | 0 | 1 | NA | NA | NA |   NA | NA | 1176.8406001 | 1540.4678878 |  2.0000000 | 325.91666 | 766.4167 | 1480.7500 | 74092.164 | ▇▁▁▁▁ |\n| 17 | numeric   | fac500a  | 0 | 1 | NA | NA | NA |   NA | NA |  279.8328240 |  299.3351186 |  0.3713087 |  88.88741 | 182.0445 |  354.0065 |  2820.728 | ▇▁▁▁▁ |\n\n",
            "text/latex": "A skim\\_df: 17 × 17\n\\begin{tabular}{r|lllllllllllllllll}\n  & skim\\_type & skim\\_variable & n\\_missing & complete\\_rate & character.min & character.max & character.empty & character.n\\_unique & character.whitespace & numeric.mean & numeric.sd & numeric.p0 & numeric.p25 & numeric.p50 & numeric.p75 & numeric.p100 & numeric.hist\\\\\n  & <chr> & <chr> & <int> & <dbl> & <int> & <int> & <int> & <int> & <int> & <dbl> & <dbl> & <dbl> & <dbl> & <dbl> & <dbl> & <dbl> & <chr>\\\\\n\\hline\n\t1 & character & conglome & 0 & 1 &  6 &  6 &  0 & 5351 &  0 &           NA &           NA &         NA &        NA &       NA &        NA &        NA & NA   \\\\\n\t2 & character & vivienda & 0 & 1 &  3 &  3 &  0 &  543 &  0 &           NA &           NA &         NA &        NA &       NA &        NA &        NA & NA   \\\\\n\t3 & character & hogar    & 0 & 1 &  2 &  2 &  0 &   12 &  0 &           NA &           NA &         NA &        NA &       NA &        NA &        NA & NA   \\\\\n\t4 & character & codperso & 0 & 1 &  2 &  2 &  0 &   15 &  0 &           NA &           NA &         NA &        NA &       NA &        NA &        NA & NA   \\\\\n\t5 & character & ubigeo   & 0 & 1 &  6 &  6 &  0 & 1217 &  0 &           NA &           NA &         NA &        NA &       NA &        NA &        NA & NA   \\\\\n\t6 & numeric   & dpto     & 0 & 1 & NA & NA & NA &   NA & NA &   13.0968698 &    6.8134976 &  1.0000000 &   7.00000 &  14.0000 &   19.0000 &    25.000 & ▅▅▇▅▅\\\\\n\t7 & numeric   & area     & 0 & 1 & NA & NA & NA &   NA & NA &    0.6346020 &    0.4815468 &  0.0000000 &   0.00000 &   1.0000 &    1.0000 &     1.000 & ▅▁▁▁▇\\\\\n\t8 & numeric   & zona     & 0 & 1 & NA & NA & NA &   NA & NA &    2.1363022 &    0.9859692 &  1.0000000 &   1.00000 &   2.0000 &    3.0000 &     4.000 & ▇▇▁▅▂\\\\\n\t9 & numeric   & edad     & 0 & 1 & NA & NA & NA &   NA & NA &   44.2692475 &   15.5245280 & 14.0000000 &  32.00000 &  44.0000 &   55.0000 &    98.000 & ▅▇▇▂▁\\\\\n\t10 & numeric   & sexo     & 0 & 1 & NA & NA & NA &   NA & NA &    0.6048696 &    0.4888840 &  0.0000000 &   0.00000 &   1.0000 &    1.0000 &     1.000 & ▅▁▁▁▇\\\\\n\t11 & numeric   & sch      & 0 & 1 & NA & NA & NA &   NA & NA &    9.6205859 &    4.7500625 &  0.0000000 &   6.00000 &  11.0000 &   13.0000 &    18.000 & ▂▃▂▇▃\\\\\n\t12 & numeric   & niv\\_educ & 0 & 1 & NA & NA & NA &   NA & NA &    5.9017787 &    2.4116584 &  1.0000000 &   4.00000 &   6.0000 &    8.0000 &    12.000 & ▅▇▇▃▃\\\\\n\t13 & numeric   & estatus  & 0 & 1 & NA & NA & NA &   NA & NA &    0.5997253 &    0.4899593 &  0.0000000 &   0.00000 &   1.0000 &    1.0000 &     1.000 & ▆▁▁▁▇\\\\\n\t14 & numeric   & jefe     & 0 & 1 & NA & NA & NA &   NA & NA &    0.5659822 &    0.4956326 &  0.0000000 &   0.00000 &   1.0000 &    1.0000 &     1.000 & ▆▁▁▁▇\\\\\n\t15 & numeric   & ocu500   & 0 & 1 & NA & NA & NA &   NA & NA &    1.0000000 &    0.0000000 &  1.0000000 &   1.00000 &   1.0000 &    1.0000 &     1.000 & ▁▁▇▁▁\\\\\n\t16 & numeric   & wage     & 0 & 1 & NA & NA & NA &   NA & NA & 1176.8406001 & 1540.4678878 &  2.0000000 & 325.91666 & 766.4167 & 1480.7500 & 74092.164 & ▇▁▁▁▁\\\\\n\t17 & numeric   & fac500a  & 0 & 1 & NA & NA & NA &   NA & NA &  279.8328240 &  299.3351186 &  0.3713087 &  88.88741 & 182.0445 &  354.0065 &  2820.728 & ▇▁▁▁▁\\\\\n\\end{tabular}\n",
            "text/plain": [
              "[object Object][object Object][object Object][object Object][object Object][object Object][object Object][object Object][object Object][object Object][object Object][object Object][object Object][object Object][object Object][object Object][object Object]"
            ]
          },
          "metadata": {}
        }
      ]
    },
    {
      "cell_type": "markdown",
      "source": [
        "# 3. Modelo con diferentes controles"
      ],
      "metadata": {
        "id": "3G-ctr2N_w9B"
      }
    },
    {
      "cell_type": "markdown",
      "source": [
        "Podemos estimar diferentes versiones del siguiente modelo de regresión:\n",
        "\n",
        "\\begin{gather*}\n",
        "ln(wage_{i}) = \\beta_{1} + \\beta_{2} sch_{i} + x'_{i}\\delta + \\epsilon_{i}\n",
        "\\end{gather*}\n",
        "\n",
        "donde $wage_i$ es el ingreso salarial mensual del individuo."
      ],
      "metadata": {
        "id": "-8NhZ-OGAHsK"
      }
    },
    {
      "cell_type": "code",
      "source": [
        "# 2. Modelos con diferentes controles -----\n",
        "ols_1 <- lm(log(wage) ~ sch,\n",
        "            data = enaho2020)\n",
        "ols_2 <- lm(log(wage) ~ sch + sexo,\n",
        "            data = enaho2020)\n",
        "ols_3 <- lm(log(wage) ~ sch + sexo + edad,\n",
        "            data = enaho2020)\n",
        "ols_4 <- lm(log(wage) ~ sch + sexo + edad + estatus,\n",
        "            data = enaho2020)"
      ],
      "metadata": {
        "id": "qzHbaVnG_4f5"
      },
      "execution_count": 12,
      "outputs": []
    },
    {
      "cell_type": "markdown",
      "source": [
        "Presentando los resultados en la siguiente tabla:"
      ],
      "metadata": {
        "id": "oFaNDBMr_-kT"
      }
    },
    {
      "cell_type": "code",
      "source": [
        "table_1 <- mtable(\"Model 1\" = ols_1,\n",
        "                  \"Model 2\" = ols_2,\n",
        "                  \"Model 3\" = ols_3,\n",
        "                  \"Model 4\" = ols_4,\n",
        "                  summary.stats = c(\"N\", \"R-squared\"),\n",
        "                  coef.style = \"default\")\n",
        "table_1"
      ],
      "metadata": {
        "colab": {
          "base_uri": "https://localhost:8080/",
          "height": 451
        },
        "id": "2X0bf7SJ_8OG",
        "outputId": "6937b917-87a0-4da9-ff19-e1e0bce8c8c4"
      },
      "execution_count": 13,
      "outputs": [
        {
          "output_type": "display_data",
          "data": {
            "text/plain": [
              "\n",
              "Calls:\n",
              "Model 1: lm(formula = log(wage) ~ sch, data = enaho2020)\n",
              "Model 2: lm(formula = log(wage) ~ sch + sexo, data = enaho2020)\n",
              "Model 3: lm(formula = log(wage) ~ sch + sexo + edad, data = enaho2020)\n",
              "Model 4: lm(formula = log(wage) ~ sch + sexo + edad + estatus, data = enaho2020)\n",
              "\n",
              "=======================================================================\n",
              "                 Model 1       Model 2       Model 3       Model 4     \n",
              "-----------------------------------------------------------------------\n",
              "  (Intercept)      5.447***      5.263***      4.895***      4.864***  \n",
              "                  (0.011)       (0.012)       (0.021)       (0.021)    \n",
              "  sch              0.110***      0.110***      0.118***      0.118***  \n",
              "                  (0.001)       (0.001)       (0.001)       (0.001)    \n",
              "  sexo                           0.305***      0.303***      0.271***  \n",
              "                                (0.010)       (0.010)       (0.010)    \n",
              "  edad                                         0.007***      0.006***  \n",
              "                                              (0.000)       (0.000)    \n",
              "  estatus                                                    0.163***  \n",
              "                                                            (0.010)    \n",
              "-----------------------------------------------------------------------\n",
              "  N            45876         45876         45876         45876         \n",
              "  R-squared        0.211         0.229         0.236         0.240     \n",
              "=======================================================================\n",
              "  Significance: *** = p < 0.001; ** = p < 0.01; * = p < 0.05  "
            ]
          },
          "metadata": {}
        }
      ]
    },
    {
      "cell_type": "code",
      "source": [
        "install.packages(\"stargazer\")\n",
        "library(stargazer)"
      ],
      "metadata": {
        "colab": {
          "base_uri": "https://localhost:8080/"
        },
        "id": "2W07HXa6BDRw",
        "outputId": "508ca7f1-84c5-475a-8b56-0ec84f8c38cb"
      },
      "execution_count": 14,
      "outputs": [
        {
          "output_type": "stream",
          "name": "stderr",
          "text": [
            "Installing package into ‘/usr/local/lib/R/site-library’\n",
            "(as ‘lib’ is unspecified)\n",
            "\n",
            "\n",
            "Please cite as: \n",
            "\n",
            "\n",
            " Hlavac, Marek (2022). stargazer: Well-Formatted Regression and Summary Statistics Tables.\n",
            "\n",
            " R package version 5.2.3. https://CRAN.R-project.org/package=stargazer \n",
            "\n",
            "\n"
          ]
        }
      ]
    },
    {
      "cell_type": "code",
      "source": [
        "stargazer(ols_1, ols_2, ols_3, ols_4, type=\"html\", out=\"ols.html\",\n",
        "          covariate.labels = c(\"Escolaridad\", \"Hombre\", \"Edad\", \"Con pareja\",\"Constant\"),\n",
        "          dep.var.labels=c(\"Logaritmo del Salario\"),\n",
        "          title = \"Modelo de Regresion Lineal\",\n",
        "          notes = c(\"Fuente: Elaboracion Propia\"))"
      ],
      "metadata": {
        "colab": {
          "base_uri": "https://localhost:8080/"
        },
        "id": "lpU2_qJqBCPE",
        "outputId": "9d9641f2-d225-43dd-d762-2923dcfd49f7"
      },
      "execution_count": 15,
      "outputs": [
        {
          "output_type": "stream",
          "name": "stdout",
          "text": [
            "\n",
            "<table style=\"text-align:center\"><caption><strong>Modelo de Regresion Lineal</strong></caption>\n",
            "<tr><td colspan=\"5\" style=\"border-bottom: 1px solid black\"></td></tr><tr><td style=\"text-align:left\"></td><td colspan=\"4\"><em>Dependent variable:</em></td></tr>\n",
            "<tr><td></td><td colspan=\"4\" style=\"border-bottom: 1px solid black\"></td></tr>\n",
            "<tr><td style=\"text-align:left\"></td><td colspan=\"4\">Logaritmo del Salario</td></tr>\n",
            "<tr><td style=\"text-align:left\"></td><td>(1)</td><td>(2)</td><td>(3)</td><td>(4)</td></tr>\n",
            "<tr><td colspan=\"5\" style=\"border-bottom: 1px solid black\"></td></tr><tr><td style=\"text-align:left\">Escolaridad</td><td>0.110<sup>***</sup></td><td>0.110<sup>***</sup></td><td>0.118<sup>***</sup></td><td>0.118<sup>***</sup></td></tr>\n",
            "<tr><td style=\"text-align:left\"></td><td>(0.001)</td><td>(0.001)</td><td>(0.001)</td><td>(0.001)</td></tr>\n",
            "<tr><td style=\"text-align:left\"></td><td></td><td></td><td></td><td></td></tr>\n",
            "<tr><td style=\"text-align:left\">Hombre</td><td></td><td>0.305<sup>***</sup></td><td>0.303<sup>***</sup></td><td>0.271<sup>***</sup></td></tr>\n",
            "<tr><td style=\"text-align:left\"></td><td></td><td>(0.010)</td><td>(0.010)</td><td>(0.010)</td></tr>\n",
            "<tr><td style=\"text-align:left\"></td><td></td><td></td><td></td><td></td></tr>\n",
            "<tr><td style=\"text-align:left\">Edad</td><td></td><td></td><td>0.007<sup>***</sup></td><td>0.006<sup>***</sup></td></tr>\n",
            "<tr><td style=\"text-align:left\"></td><td></td><td></td><td>(0.0003)</td><td>(0.0003)</td></tr>\n",
            "<tr><td style=\"text-align:left\"></td><td></td><td></td><td></td><td></td></tr>\n",
            "<tr><td style=\"text-align:left\">Con pareja</td><td></td><td></td><td></td><td>0.163<sup>***</sup></td></tr>\n",
            "<tr><td style=\"text-align:left\"></td><td></td><td></td><td></td><td>(0.010)</td></tr>\n",
            "<tr><td style=\"text-align:left\"></td><td></td><td></td><td></td><td></td></tr>\n",
            "<tr><td style=\"text-align:left\">Constant</td><td>5.447<sup>***</sup></td><td>5.263<sup>***</sup></td><td>4.895<sup>***</sup></td><td>4.864<sup>***</sup></td></tr>\n",
            "<tr><td style=\"text-align:left\"></td><td>(0.011)</td><td>(0.012)</td><td>(0.021)</td><td>(0.021)</td></tr>\n",
            "<tr><td style=\"text-align:left\"></td><td></td><td></td><td></td><td></td></tr>\n",
            "<tr><td colspan=\"5\" style=\"border-bottom: 1px solid black\"></td></tr><tr><td style=\"text-align:left\">Observations</td><td>45,876</td><td>45,876</td><td>45,876</td><td>45,876</td></tr>\n",
            "<tr><td style=\"text-align:left\">R<sup>2</sup></td><td>0.211</td><td>0.229</td><td>0.236</td><td>0.240</td></tr>\n",
            "<tr><td style=\"text-align:left\">Adjusted R<sup>2</sup></td><td>0.211</td><td>0.229</td><td>0.236</td><td>0.240</td></tr>\n",
            "<tr><td style=\"text-align:left\">Residual Std. Error</td><td>1.011 (df = 45874)</td><td>1.000 (df = 45873)</td><td>0.995 (df = 45872)</td><td>0.992 (df = 45871)</td></tr>\n",
            "<tr><td style=\"text-align:left\">F Statistic</td><td>12,294.650<sup>***</sup> (df = 1; 45874)</td><td>6,796.077<sup>***</sup> (df = 2; 45873)</td><td>4,714.766<sup>***</sup> (df = 3; 45872)</td><td>3,624.893<sup>***</sup> (df = 4; 45871)</td></tr>\n",
            "<tr><td colspan=\"5\" style=\"border-bottom: 1px solid black\"></td></tr><tr><td style=\"text-align:left\"><em>Note:</em></td><td colspan=\"4\" style=\"text-align:right\"><sup>*</sup>p<0.1; <sup>**</sup>p<0.05; <sup>***</sup>p<0.01</td></tr>\n",
            "<tr><td style=\"text-align:left\"></td><td colspan=\"4\" style=\"text-align:right\">Fuente: Elaboracion Propia</td></tr>\n",
            "</table>\n"
          ]
        }
      ]
    },
    {
      "cell_type": "markdown",
      "source": [
        "# 4. Usando operaciones matriciales"
      ],
      "metadata": {
        "id": "XcLEhlc6Axop"
      }
    },
    {
      "cell_type": "markdown",
      "source": [
        "Ahora, estimamos MCO y la matriz de varianza-covarianza usando operaciones matriciales. Primero, creamos la matriz $X$ de variables independientes y el vector $y$:"
      ],
      "metadata": {
        "id": "6cOdDdOMA1EZ"
      }
    },
    {
      "cell_type": "code",
      "source": [
        "# Crear X e y\n",
        "X <- cbind(1, enaho2020$sch,\n",
        "           enaho2020$sexo,\n",
        "           enaho2020$edad,\n",
        "           enaho2020$estatus)\n",
        "y <- log(enaho2020$wage)"
      ],
      "metadata": {
        "id": "REQUmrhzBNry"
      },
      "execution_count": 17,
      "outputs": []
    },
    {
      "cell_type": "markdown",
      "source": [
        "Para obtener el estimador $\\hat\\beta$\n",
        "\\begin{gather*}\n",
        "\\hat\\beta_{MCO}=(X'X)^{-1}X'y\n",
        "\\end{gather*}"
      ],
      "metadata": {
        "id": "kVRDpqiOBUUx"
      }
    },
    {
      "cell_type": "markdown",
      "source": [
        "Computamos:"
      ],
      "metadata": {
        "id": "g-lzzipkBinV"
      }
    },
    {
      "cell_type": "code",
      "source": [
        "b_hat <- solve(crossprod(X)) %*% crossprod(X, y) # (X'X)^-1 X'y\n",
        "b_hat"
      ],
      "metadata": {
        "colab": {
          "base_uri": "https://localhost:8080/",
          "height": 209
        },
        "id": "pEQCg50-BTHX",
        "outputId": "90787afa-b1d9-4c20-fcb8-06d0d550a027"
      },
      "execution_count": 18,
      "outputs": [
        {
          "output_type": "display_data",
          "data": {
            "text/html": [
              "<table class=\"dataframe\">\n",
              "<caption>A matrix: 5 × 1 of type dbl</caption>\n",
              "<tbody>\n",
              "\t<tr><td>4.864180026</td></tr>\n",
              "\t<tr><td>0.118109938</td></tr>\n",
              "\t<tr><td>0.271037276</td></tr>\n",
              "\t<tr><td>0.005513234</td></tr>\n",
              "\t<tr><td>0.163247777</td></tr>\n",
              "</tbody>\n",
              "</table>\n"
            ],
            "text/markdown": "\nA matrix: 5 × 1 of type dbl\n\n| 4.864180026 |\n| 0.118109938 |\n| 0.271037276 |\n| 0.005513234 |\n| 0.163247777 |\n\n",
            "text/latex": "A matrix: 5 × 1 of type dbl\n\\begin{tabular}{l}\n\t 4.864180026\\\\\n\t 0.118109938\\\\\n\t 0.271037276\\\\\n\t 0.005513234\\\\\n\t 0.163247777\\\\\n\\end{tabular}\n",
            "text/plain": [
              "     [,1]       \n",
              "[1,] 4.864180026\n",
              "[2,] 0.118109938\n",
              "[3,] 0.271037276\n",
              "[4,] 0.005513234\n",
              "[5,] 0.163247777"
            ]
          },
          "metadata": {}
        }
      ]
    },
    {
      "cell_type": "markdown",
      "source": [
        "Los resultados son los mismos que se reportan en el modelo 4 de la Tabla pervia. Ahora estimamos $\\hat\\sigma^2$ usando la ecuación:\n",
        "\\begin{gather*}\n",
        "\\hat\\sigma^2 = \\frac{SCR}{n-K}=\\frac{\\hat\\epsilon'\\hat\\epsilon}{n-K}\n",
        "\\end{gather*}"
      ],
      "metadata": {
        "id": "YPSE7ZdTBmje"
      }
    },
    {
      "cell_type": "code",
      "source": [
        "# Creamos sigma squared hat\n",
        "y_hat <- X %*% b_hat\n",
        "e_hat <- y - y_hat\n",
        "sigma2_hat <- crossprod(e_hat) / (length(y) - ncol(X))  # n-K\n",
        "sigma2_hat"
      ],
      "metadata": {
        "colab": {
          "base_uri": "https://localhost:8080/",
          "height": 83
        },
        "id": "NWlW1bWSBlHh",
        "outputId": "9277ffea-2d5e-4b2e-e473-c85c7cd4a73f"
      },
      "execution_count": 19,
      "outputs": [
        {
          "output_type": "display_data",
          "data": {
            "text/html": [
              "<table class=\"dataframe\">\n",
              "<caption>A matrix: 1 × 1 of type dbl</caption>\n",
              "<tbody>\n",
              "\t<tr><td>0.9844928</td></tr>\n",
              "</tbody>\n",
              "</table>\n"
            ],
            "text/markdown": "\nA matrix: 1 × 1 of type dbl\n\n| 0.9844928 |\n\n",
            "text/latex": "A matrix: 1 × 1 of type dbl\n\\begin{tabular}{l}\n\t 0.9844928\\\\\n\\end{tabular}\n",
            "text/plain": [
              "     [,1]     \n",
              "[1,] 0.9844928"
            ]
          },
          "metadata": {}
        }
      ]
    },
    {
      "cell_type": "markdown",
      "source": [
        "Finalmente, computamos la matriz de varianza-covarianza de $\\hat\\beta$ junto con los errores estándar:\n",
        "\\begin{gather*}\n",
        "\\widehat{Var(\\hat\\beta|X)} \\equiv \\hat\\sigma^2 (X'X)^{-1}\n",
        "\\end{gather*}"
      ],
      "metadata": {
        "id": "iob1NBc5CEHg"
      }
    },
    {
      "cell_type": "code",
      "source": [
        "# Creamos errores estándar\n",
        "V_hat <- drop(sigma2_hat) * solve(crossprod(X))\n",
        "se <- sqrt(diag(V_hat))\n",
        "se"
      ],
      "metadata": {
        "colab": {
          "base_uri": "https://localhost:8080/",
          "height": 34
        },
        "id": "so942smZCAIp",
        "outputId": "f8aa9041-7e23-422e-f8c1-77bd71a6aec0"
      },
      "execution_count": 20,
      "outputs": [
        {
          "output_type": "display_data",
          "data": {
            "text/html": [
              "<style>\n",
              ".list-inline {list-style: none; margin:0; padding: 0}\n",
              ".list-inline>li {display: inline-block}\n",
              ".list-inline>li:not(:last-child)::after {content: \"\\00b7\"; padding: 0 .5ex}\n",
              "</style>\n",
              "<ol class=list-inline><li>0.0214679440670193</li><li>0.00104666426969244</li><li>0.00967348857355205</li><li>0.00032732749137132</li><li>0.00990235945398877</li></ol>\n"
            ],
            "text/markdown": "1. 0.0214679440670193\n2. 0.00104666426969244\n3. 0.00967348857355205\n4. 0.00032732749137132\n5. 0.00990235945398877\n\n\n",
            "text/latex": "\\begin{enumerate*}\n\\item 0.0214679440670193\n\\item 0.00104666426969244\n\\item 0.00967348857355205\n\\item 0.00032732749137132\n\\item 0.00990235945398877\n\\end{enumerate*}\n",
            "text/plain": [
              "[1] 0.0214679441 0.0010466643 0.0096734886 0.0003273275 0.0099023595"
            ]
          },
          "metadata": {}
        }
      ]
    }
  ]
}